{
  "nbformat": 4,
  "nbformat_minor": 0,
  "metadata": {
    "colab": {
      "name": "Automatically differentiation_more_examples.ipynb",
      "provenance": [],
      "authorship_tag": "ABX9TyPHn0TRiuCXqAINpzCobnFD",
      "include_colab_link": true
    },
    "kernelspec": {
      "name": "python3",
      "display_name": "Python 3"
    }
  },
  "cells": [
    {
      "cell_type": "markdown",
      "metadata": {
        "id": "view-in-github",
        "colab_type": "text"
      },
      "source": [
        "<a href=\"https://colab.research.google.com/github/martinpius/tf_keras_training_loop_from_scratch/blob/main/Automatically_differentiation_more_examples.ipynb\" target=\"_parent\"><img src=\"https://colab.research.google.com/assets/colab-badge.svg\" alt=\"Open In Colab\"/></a>"
      ]
    },
    {
      "cell_type": "code",
      "metadata": {
        "colab": {
          "base_uri": "https://localhost:8080/"
        },
        "id": "pG-5C53rqruv",
        "outputId": "23588709-bbfe-4b70-8c00-450270ec6d10"
      },
      "source": [
        "from google.colab import drive\n",
        "try:\n",
        "  drive.mount(\"/content/drive/\", force_remount = True)\n",
        "  COLAB = True\n",
        "  import tensorflow as tf\n",
        "  print(f\"You are using tensorflow version: {tf.__version__}\")\n",
        "except Exception as e:\n",
        "  COLAB = False\n",
        "  print(\"---Please load your drive---\")\n",
        "def timefmt(t):\n",
        "  h = int(t/ 60* 60)\n",
        "  m = int(t % (60 * 60)/60)\n",
        "  s = int(t % 60)\n",
        "  return f\"{h}:{m:>03}: {s:>05.2f}\""
      ],
      "execution_count": 72,
      "outputs": [
        {
          "output_type": "stream",
          "text": [
            "Mounted at /content/drive/\n",
            "You are using tensorflow version: 2.3.0\n"
          ],
          "name": "stdout"
        }
      ]
    },
    {
      "cell_type": "code",
      "metadata": {
        "colab": {
          "base_uri": "https://localhost:8080/",
          "height": 35
        },
        "id": "2M6-qdJSsOXo",
        "outputId": "55b2de90-ba0f-4fdd-d41d-3848ac93a036"
      },
      "source": [
        "timefmt(8.2034)"
      ],
      "execution_count": 73,
      "outputs": [
        {
          "output_type": "execute_result",
          "data": {
            "application/vnd.google.colaboratory.intrinsic+json": {
              "type": "string"
            },
            "text/plain": [
              "'8:000: 08.00'"
            ]
          },
          "metadata": {
            "tags": []
          },
          "execution_count": 73
        }
      ]
    },
    {
      "cell_type": "code",
      "metadata": {
        "id": "bJDhzfhNsijN"
      },
      "source": [
        "#We can use tensorflow gradient tape to freeze some intermediate computation to compute derivatives of a more complex function\n",
        "import tensorflow as tf\n",
        "import numpy as np\n",
        "import matplotlib.pyplot as plt\n",
        "from tensorflow import keras"
      ],
      "execution_count": 74,
      "outputs": []
    },
    {
      "cell_type": "code",
      "metadata": {
        "id": "xNw5PWSDtQw7"
      },
      "source": [
        "x1 = tf.Variable(tf.constant([2.3,3.2,3.4], dtype = tf.float32))"
      ],
      "execution_count": 75,
      "outputs": []
    },
    {
      "cell_type": "code",
      "metadata": {
        "id": "4PeDSQ1Ltphz"
      },
      "source": [
        "x2 =tf.Variable(tf.constant([1.9,2.1,3.7], dtype= tf.float32))"
      ],
      "execution_count": 76,
      "outputs": []
    },
    {
      "cell_type": "code",
      "metadata": {
        "colab": {
          "base_uri": "https://localhost:8080/"
        },
        "id": "SPbliD6UuMRh",
        "outputId": "979a917c-0e5c-4521-b7c6-c5df0736a7f1"
      },
      "source": [
        "with tf.GradientTape() as tape:\n",
        "  x1s = x1*x1\n",
        "  with tape.stop_recording(): #Freeze computation of the second slope\n",
        "    x2s = x2*x2\n",
        "  z = 1.378*x1s + 1.987*x2s\n",
        "\n",
        "grads = tape.gradient(z, {'x1': x1,'x2':x2})\n",
        "print(f\"dx1 : {grads['x1']}, dx2: {grads['x2']}\")\n"
      ],
      "execution_count": 77,
      "outputs": [
        {
          "output_type": "stream",
          "text": [
            "dx1 : [6.3388    8.8192005 9.3704   ], dx2: None\n"
          ],
          "name": "stdout"
        }
      ]
    },
    {
      "cell_type": "code",
      "metadata": {
        "colab": {
          "base_uri": "https://localhost:8080/",
          "height": 51
        },
        "id": "7YCl0bqjv2gM",
        "outputId": "48873c6a-cbf9-45c9-eaf7-7be8d103562b"
      },
      "source": [
        "#We can also stop the gradient from flowing within a particular direction using tf.stop_gradient\n",
        "x = tf.Variable(tf.constant([1.3,2.4,1.9,3.2], dtype = tf.float32))\n",
        "y = tf.Variable(tf.constant([2.1,2.8,2.1,1.9], dtype  = tf.float32))\n",
        "\n",
        "with tf.GradientTape() as tape:\n",
        "  ys = tf.multiply(y,y)\n",
        "  z = 3.6*x**3 +tf.stop_gradient(ys)#This stop operation on the 2nd part of the function\n",
        "grad = tape.gradient(z, {'x':x, 'y':y})\n",
        "\n",
        "display(grad)"
      ],
      "execution_count": 78,
      "outputs": [
        {
          "output_type": "display_data",
          "data": {
            "text/plain": [
              "{'x': <tf.Tensor: shape=(4,), dtype=float32, numpy=array([ 18.251997,  62.207996,  38.987995, 110.592   ], dtype=float32)>,\n",
              " 'y': None}"
            ]
          },
          "metadata": {
            "tags": []
          }
        }
      ]
    },
    {
      "cell_type": "code",
      "metadata": {
        "colab": {
          "base_uri": "https://localhost:8080/",
          "height": 51
        },
        "id": "Hj-YkIZcAQl9",
        "outputId": "b8b13e2b-6ba0-4b6b-b55e-a78917b2b0aa"
      },
      "source": [
        "#We can also use a reset function to clean every previous records on the tape: (Its like a forget gate):\n",
        "x = tf.Variable(tf.constant([2.0,4.3,2.9,4.0], dtype = tf.float32))\n",
        "y = tf.Variable(tf.constant([3.2,3.2,1.4,4.2], dtype = tf.float32))\n",
        "\n",
        "with tf.GradientTape() as tape:\n",
        "  ys = tf.multiply(y, y)\n",
        "  if True:\n",
        "    tape.reset()#This will freeze information of ys in the tape\n",
        "    xs = tf.multiply(x,x)\n",
        "  z = 3.8*xs + 1.6*ys\n",
        "grads = tape.gradient(z, {'x': x, 'y': y})\n",
        "\n",
        "display(grads)"
      ],
      "execution_count": 79,
      "outputs": [
        {
          "output_type": "display_data",
          "data": {
            "text/plain": [
              "{'x': <tf.Tensor: shape=(4,), dtype=float32, numpy=array([15.2 , 32.68, 22.04, 30.4 ], dtype=float32)>,\n",
              " 'y': None}"
            ]
          },
          "metadata": {
            "tags": []
          }
        }
      ]
    },
    {
      "cell_type": "code",
      "metadata": {
        "colab": {
          "base_uri": "https://localhost:8080/",
          "height": 34
        },
        "id": "u2GCv9Pj0_N_",
        "outputId": "b169102a-6d77-4f7f-efe5-6b29f4bba716"
      },
      "source": [
        "#User defined gradient:\n",
        "#There are multiple way to declare user's defined gradient computation\n",
        "#we can use tf.RegisterGradient or tf.custom_gradient as decorators to customize the computations of our choice\n",
        "#Ilustration of gradient cliping to prevent explossions using  tf.clip_by_norm\n",
        "@tf.custom_gradient\n",
        "def fn1(x):\n",
        "  def fn2(mx):\n",
        "    return tf.clip_by_norm(mx, 0.5)\n",
        "  return x, fn2\n",
        "x = tf.Variable(tf.constant([8,4], dtype = tf.float32))\n",
        "with tf.GradientTape() as tape:\n",
        "  out = fn1(x**2)\n",
        "grads = tape.gradient(out, x)\n",
        "display(grads)"
      ],
      "execution_count": 80,
      "outputs": [
        {
          "output_type": "display_data",
          "data": {
            "text/plain": [
              "<tf.Tensor: shape=(2,), dtype=float32, numpy=array([5.656854, 2.828427], dtype=float32)>"
            ]
          },
          "metadata": {
            "tags": []
          }
        }
      ]
    },
    {
      "cell_type": "code",
      "metadata": {
        "colab": {
          "base_uri": "https://localhost:8080/",
          "height": 34
        },
        "id": "Itag-_9S8FKC",
        "outputId": "4abad500-125c-4865-be30-c9857251b153"
      },
      "source": [
        "#High order derivatives with Nested Gradient tape\n",
        "x = tf.Variable(2.)\n",
        "with tf.GradientTape() as tape1:#For first derivative\n",
        "  with tf.GradientTape() as tape2:#For second derivative\n",
        "    y_c = x**3\n",
        "  grad_1 = tape2.gradient(y_c, x)\n",
        "grad_2 = tape1.gradient(grad_1, x)\n",
        "\n",
        "display(grad_2)\n",
        "\n",
        "\n"
      ],
      "execution_count": 81,
      "outputs": [
        {
          "output_type": "display_data",
          "data": {
            "text/plain": [
              "<tf.Tensor: shape=(), dtype=float32, numpy=12.0>"
            ]
          },
          "metadata": {
            "tags": []
          }
        }
      ]
    },
    {
      "cell_type": "code",
      "metadata": {
        "id": "tLIoJdJKZK46"
      },
      "source": [
        "p = tf.random.normal(shape =[10,16], mean = 3, stddev = 1.8)"
      ],
      "execution_count": 82,
      "outputs": []
    },
    {
      "cell_type": "code",
      "metadata": {
        "id": "ymv40boR6Fb5"
      },
      "source": [
        "#p"
      ],
      "execution_count": 83,
      "outputs": []
    },
    {
      "cell_type": "code",
      "metadata": {
        "id": "Ilpq2I7n6adx"
      },
      "source": [
        "#Input gradient regularization for an adversarial example.\n",
        "#Consider the following dense layer of a neural network (inputs-outputs relation)\n",
        "\n",
        "dense_1 = tf.keras.layers.Dense(units = 128, activation = 'relu', kernel_initializer='random_normal')"
      ],
      "execution_count": 84,
      "outputs": []
    },
    {
      "cell_type": "code",
      "metadata": {
        "colab": {
          "base_uri": "https://localhost:8080/"
        },
        "id": "vtkEABAr75of",
        "outputId": "9aac2751-7043-4a50-d89b-75cede3eeb0f"
      },
      "source": [
        "#Now we apply nested gradient tape to regularize the slope of the above layer's weights\n",
        "with tf.GradientTape() as tape1:\n",
        "  with tf.GradientTape(watch_accessed_variables = False) as tape2:\n",
        "    q = dense_1(p)\n",
        "    tape2.watch(p)#Freeze the input\n",
        "    out = tf.reduce_sum(dense_1(p)**2)\n",
        "  m1 = tape2.gradient(out, p)\n",
        "  m1_norm = tf.norm(m1)#Regularization of the slope wrt out\n",
        "m2 = tape1.gradient(m1,dense_1.trainable_variables)\n",
        "\n",
        "#print(f\"m1_shape: {m1}\\nm2_shape: {m2}\\nm1_norm: {m1_norm}\")\n",
        "[k.shape for k in m2]\n",
        "\n"
      ],
      "execution_count": 85,
      "outputs": [
        {
          "output_type": "execute_result",
          "data": {
            "text/plain": [
              "[TensorShape([16, 128]), TensorShape([128])]"
            ]
          },
          "metadata": {
            "tags": []
          },
          "execution_count": 85
        }
      ]
    },
    {
      "cell_type": "code",
      "metadata": {
        "id": "CFheUNvREiKV"
      },
      "source": [
        "#The jacobian matrix of transformation can be obtained by tape method when we have vectors of values \n",
        "#This can be done depend on multiple shape of input-output\n",
        "#We start with an example which yield vector of outputs \n",
        "x = tf.linspace(-1.0,1.0,100+1)\n",
        "y = tf.Variable(0.0) #A place-holder like\n",
        "with tf.GradientTape() as tape:\n",
        "  z = tf.nn.sigmoid(x +y)# This is a target tensor which will determine the output shape too\n",
        "J = tape.jacobian(z, y)"
      ],
      "execution_count": 86,
      "outputs": []
    },
    {
      "cell_type": "code",
      "metadata": {
        "colab": {
          "base_uri": "https://localhost:8080/"
        },
        "id": "OMHHdLB_Fs0S",
        "outputId": "4447cde0-5d8d-460e-8dd8-4b77c7e1125b"
      },
      "source": [
        "print(f\"shape: {J.shape}\\nout {J}\")"
      ],
      "execution_count": 87,
      "outputs": [
        {
          "output_type": "stream",
          "text": [
            "shape: (101,)\n",
            "out [0.19661194 0.19842187 0.20021665 0.20199534 0.20375688 0.20550032\n",
            " 0.20722458 0.20892867 0.21061157 0.21227224 0.2139097  0.2155229\n",
            " 0.21711081 0.21867248 0.22020683 0.22171287 0.22318965 0.22463612\n",
            " 0.22605138 0.22743438 0.22878425 0.23009999 0.2313807  0.2326255\n",
            " 0.23383345 0.23500372 0.23613545 0.2372278  0.23827998 0.2392912\n",
            " 0.24026075 0.24118784 0.24207179 0.24291195 0.24370766 0.24445832\n",
            " 0.24516332 0.24582215 0.24643427 0.24699923 0.24751657 0.24798588\n",
            " 0.24840678 0.248779   0.24910218 0.24937606 0.24960044 0.24977514\n",
            " 0.24990003 0.24997501 0.25       0.249975   0.24990003 0.24977514\n",
            " 0.24960043 0.24937604 0.24910216 0.248779   0.2484068  0.24798588\n",
            " 0.24751657 0.24699923 0.24643427 0.24582215 0.24516332 0.24445832\n",
            " 0.24370766 0.24291196 0.2420718  0.24118784 0.24026075 0.23929122\n",
            " 0.23827998 0.2372278  0.23613544 0.23500372 0.23383345 0.2326255\n",
            " 0.2313807  0.23009999 0.22878425 0.22743441 0.22605138 0.22463612\n",
            " 0.22318965 0.22171289 0.22020684 0.21867248 0.21711084 0.2155229\n",
            " 0.21390972 0.21227224 0.21061158 0.20892864 0.20722458 0.20550032\n",
            " 0.20375688 0.20199534 0.20021668 0.19842188 0.19661193]\n"
          ],
          "name": "stdout"
        }
      ]
    },
    {
      "cell_type": "code",
      "metadata": {
        "id": "xCo67PmmF-X2"
      },
      "source": [
        "assert z.shape == J.shape #They must be of the same shape"
      ],
      "execution_count": 88,
      "outputs": []
    },
    {
      "cell_type": "code",
      "metadata": {
        "id": "vTsC_vLbHP6I"
      },
      "source": [
        "x = tf.random.normal([5,5])\n",
        "layer = tf.keras.layers.Dense(units = 16, kernel_initializer='random_normal', activation = 'relu')\n",
        "out = layer(x)\n",
        "assert out.shape == (5,16)\n"
      ],
      "execution_count": 89,
      "outputs": []
    },
    {
      "cell_type": "code",
      "metadata": {
        "colab": {
          "base_uri": "https://localhost:8080/"
        },
        "id": "cdyomvw7PR_U",
        "outputId": "a12bb6c7-4e57-4430-f94d-8fb3d49769a7"
      },
      "source": [
        "layer.kernel.shape"
      ],
      "execution_count": 90,
      "outputs": [
        {
          "output_type": "execute_result",
          "data": {
            "text/plain": [
              "TensorShape([5, 16])"
            ]
          },
          "metadata": {
            "tags": []
          },
          "execution_count": 90
        }
      ]
    },
    {
      "cell_type": "code",
      "metadata": {
        "id": "Iy5U3EoMQo2m"
      },
      "source": [
        "with tf.GradientTape() as tape:\n",
        "  out = layer(x)\n",
        "J = tape.jacobian(out, layer.kernel)"
      ],
      "execution_count": 91,
      "outputs": []
    },
    {
      "cell_type": "code",
      "metadata": {
        "colab": {
          "base_uri": "https://localhost:8080/",
          "height": 34
        },
        "id": "19Zk_ygdRRuE",
        "outputId": "e3f44d52-6282-40b9-b38d-42c250e47eda"
      },
      "source": [
        "display(J.shape)"
      ],
      "execution_count": 92,
      "outputs": [
        {
          "output_type": "display_data",
          "data": {
            "text/plain": [
              "TensorShape([5, 16, 5, 16])"
            ]
          },
          "metadata": {
            "tags": []
          }
        }
      ]
    },
    {
      "cell_type": "code",
      "metadata": {
        "colab": {
          "base_uri": "https://localhost:8080/",
          "height": 282
        },
        "id": "_kP8EFN8RUkz",
        "outputId": "a4b8ff6a-489d-4496-8c0a-99432c575038"
      },
      "source": [
        "plt.style.use('ggplot')\n",
        "plt.scatter(out.numpy(),layer.kernel.numpy(), color = 'violet')"
      ],
      "execution_count": 93,
      "outputs": [
        {
          "output_type": "execute_result",
          "data": {
            "text/plain": [
              "<matplotlib.collections.PathCollection at 0x7fea9b8e08d0>"
            ]
          },
          "metadata": {
            "tags": []
          },
          "execution_count": 93
        },
        {
          "output_type": "display_data",
          "data": {
            "image/png": "[encoded data removed]",
            "text/plain": [
              "<Figure size 432x288 with 1 Axes>"
            ]
          },
          "metadata": {
            "tags": []
          }
        }
      ]
    },
    {
      "cell_type": "code",
      "metadata": {
        "colab": {
          "base_uri": "https://localhost:8080/"
        },
        "id": "m8jXpZ8yR9K3",
        "outputId": "fff242c3-8f62-410a-9791-5e2a8aa8b9a8"
      },
      "source": [
        "#Batch jacobian. \n",
        "#Consider the following example\n",
        "x = tf.random.normal([7,5])\n",
        "layer1 = tf.keras.layers.Dense(units = 8, kernel_initializer = 'random_normal', activation = 'relu')\n",
        "layer2 = tf.keras.layers.Dense(units = 6, kernel_initializer = 'random_normal', activation = 'relu')\n",
        "with tf.GradientTape(watch_accessed_variables = False) as tape:\n",
        "  tape.watch(x)\n",
        "  y = layer1(x)\n",
        "  y = layer2(y)\n",
        "J = tape.jacobian(y, x)\n",
        "print(y.shape, J.shape)"
      ],
      "execution_count": 107,
      "outputs": [
        {
          "output_type": "stream",
          "text": [
            "WARNING:tensorflow:6 out of the last 6 calls to <function pfor.<locals>.f at 0x7fea99386bf8> triggered tf.function retracing. Tracing is expensive and the excessive number of tracings could be due to (1) creating @tf.function repeatedly in a loop, (2) passing tensors with different shapes, (3) passing Python objects instead of tensors. For (1), please define your @tf.function outside of the loop. For (2), @tf.function has experimental_relax_shapes=True option that relaxes argument shapes that can avoid unnecessary retracing. For (3), please refer to https://www.tensorflow.org/tutorials/customization/performance#python_or_tensor_args and https://www.tensorflow.org/api_docs/python/tf/function for  more details.\n",
            "(7, 6) (7, 6, 7, 5)\n"
          ],
          "name": "stdout"
        }
      ]
    },
    {
      "cell_type": "code",
      "metadata": {
        "colab": {
          "base_uri": "https://localhost:8080/",
          "height": 507
        },
        "id": "qIZYcCsyqIj3",
        "outputId": "cb20f8d2-de67-4d44-b3a0-6daf6b092f00"
      },
      "source": [
        "#The gradient has the shape (batch,*, batch, **)\n",
        "#Slicing and ploting the results as an image pixels we get\n",
        "import matplotlib as mpl\n",
        "#mpl.rcParams['figure.figsize'] = (5,5)\n",
        "#mpl.rcParams['figure.dpi'] = 100\n",
        "def display_std_img(img, **kwargs):\n",
        "  '''This function plot the standardized arrays of numbers as pixels'''\n",
        "  scales = tf.reduce_max(abs(img))\n",
        "  #plt.style.use('ggplot')\n",
        "  plt.imshow(img, vmin = -scales, vmax = scales, cmap = 'seismic', **kwargs)\n",
        "  plt.colorbar()\n",
        "  plt.tight_layout()\n",
        "\n",
        "\n",
        "#slice_slope_batch = J[:,0,:,0]# This pick the diaganol elements (The density of the plot will display the same)\n",
        "#display_std_img(slice_slope_batch)\n",
        "display_std_img(J[:, 0, :, 0])\n",
        "_ = plt.title('A (batch, batch) slice')\n",
        "  \n"
      ],
      "execution_count": 111,
      "outputs": [
        {
          "output_type": "display_data",
          "data": {
            "image/png": "[encoded data removed]",
            "text/plain": [
              "<Figure size 500x500 with 2 Axes>"
            ]
          },
          "metadata": {
            "tags": []
          }
        }
      ]
    },
    {
      "cell_type": "code",
      "metadata": {
        "id": "keId4KlXs1LI"
      },
      "source": [
        ""
      ],
      "execution_count": null,
      "outputs": []
    }
  ]
}