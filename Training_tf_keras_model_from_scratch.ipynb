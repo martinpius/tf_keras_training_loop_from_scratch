{
  "nbformat": 4,
  "nbformat_minor": 0,
  "metadata": {
    "colab": {
      "name": "Training tf_keras_model_from scratch.ipynb",
      "provenance": [],
      "authorship_tag": "ABX9TyPi4z8PPZWkYvxS1yD1fCLY",
      "include_colab_link": true
    },
    "kernelspec": {
      "name": "python3",
      "display_name": "Python 3"
    }
  },
  "cells": [
    {
      "cell_type": "markdown",
      "metadata": {
        "id": "view-in-github",
        "colab_type": "text"
      },
      "source": [
        "<a href=\"https://colab.research.google.com/github/martinpius/tf_keras_training_loop_from_scratch/blob/main/Training_tf_keras_model_from_scratch.ipynb\" target=\"_parent\"><img src=\"https://colab.research.google.com/assets/colab-badge.svg\" alt=\"Open In Colab\"/></a>"
      ]
    },
    {
      "cell_type": "code",
      "metadata": {
        "colab": {
          "base_uri": "https://localhost:8080/"
        },
        "id": "8OPAM_J-WkVl",
        "outputId": "0cff980e-e43f-4feb-d782-92d863863b8c"
      },
      "source": [
        "#Loading the google drive\n",
        "from google.colab import drive\n",
        "try:\n",
        "  drive.mount(\"/content/drive\", force_remount = True)\n",
        "  COLAB = True\n",
        "  import tensorflow as tf\n",
        "  print(f\"You are using colab with tensorflow version: {tf.__version__}\")\n",
        "except Exception as e:\n",
        "  COLAB = False\n",
        "  print(\"...Load your drive....\")\n",
        "\n",
        "def mytimefmt(t):\n",
        "  hours = int(t/ (60 * 60))\n",
        "  minutes = int(t % (60 * 60)/60)\n",
        "  seconds = int(t % 60)\n",
        "  return f\"{hours}: {minutes:>03}: {seconds:05.2f}\""
      ],
      "execution_count": 1,
      "outputs": [
        {
          "output_type": "stream",
          "text": [
            "Mounted at /content/drive\n",
            "You are using colab with tensorflow version: 2.3.0\n"
          ],
          "name": "stdout"
        }
      ]
    },
    {
      "cell_type": "code",
      "metadata": {
        "id": "RzUgOc5iYoMt"
      },
      "source": [
        "import tensorflow as tf\n",
        "import numpy as np\n",
        "from tensorflow import keras\n",
        "import matplotlib.pyplot as plt\n"
      ],
      "execution_count": 2,
      "outputs": []
    },
    {
      "cell_type": "code",
      "metadata": {
        "id": "R-Gvlo5xZGQY"
      },
      "source": [
        "#synthetic data generation\n",
        "w0 = 5.6\n",
        "b0 = 1.5\n",
        "x_real = tf.random.normal(shape = [10000])\n",
        "noise = tf.random.normal(shape = [10000])\n",
        "out = x_real * w0 + b_real + noise #Create a simple relationship between the input-output"
      ],
      "execution_count": 5,
      "outputs": []
    },
    {
      "cell_type": "code",
      "metadata": {
        "colab": {
          "base_uri": "https://localhost:8080/",
          "height": 289
        },
        "id": "4uTW-P-BZ_Vu",
        "outputId": "79595a24-c409-49a0-d612-75763e433605"
      },
      "source": [
        "#Simple plot to visualize the data above:\n",
        "plt.style.use('fivethirtyeight')\n",
        "plt.scatter(x_real, out, color = 'red')\n",
        "plt.title('scatter plot')\n",
        "plt.xlabel('x_real')\n",
        "plt.ylabel('out')\n",
        "plt.tight_layout()"
      ],
      "execution_count": 7,
      "outputs": [
        {
          "output_type": "display_data",
          "data": {
            "image/png": "[encoded data removed]",
            "text/plain": [
              "<Figure size 432x288 with 1 Axes>"
            ]
          },
          "metadata": {
            "tags": []
          }
        }
      ]
    },
    {
      "cell_type": "code",
      "metadata": {
        "id": "1BesIzKLaQnA"
      },
      "source": [
        "#There is a kind of linear relationship between the variables.\n",
        "#We may try to fit a straight line to the data using tf.model/keras model as follow\n"
      ],
      "execution_count": 8,
      "outputs": []
    },
    {
      "cell_type": "code",
      "metadata": {
        "colab": {
          "base_uri": "https://localhost:8080/",
          "height": 34
        },
        "id": "1qbv-Z-LbX-0",
        "outputId": "5aec0e5f-daa4-4e60-cfe2-50dbafe11d94"
      },
      "source": [
        "#With tf model\n",
        "class TModel(tf.Module):\n",
        "  def __init__(self, **kwargs):\n",
        "    super().__init__(**kwargs)\n",
        "    self.w = tf.Variable(4.5, name = 'w') #Any random initial weight is okay\n",
        "    self.b = tf.Variable(0.0, name = 'b')#Biases are normally initialized to zeros\n",
        "  def __call__(self, inputs):\n",
        "    return self.w * inputs + self.b\n",
        "\n",
        "mymodel = TModel()\n",
        "display(mymodel(6.0))#check if its gives the desired results"
      ],
      "execution_count": 9,
      "outputs": [
        {
          "output_type": "display_data",
          "data": {
            "text/plain": [
              "<tf.Tensor: shape=(), dtype=float32, numpy=27.0>"
            ]
          },
          "metadata": {
            "tags": []
          }
        }
      ]
    },
    {
      "cell_type": "code",
      "metadata": {
        "colab": {
          "base_uri": "https://localhost:8080/",
          "height": 314
        },
        "id": "_y3Wdqn3c6WK",
        "outputId": "ae83e12c-7ff7-4f3f-eab4-d7d5338d7206"
      },
      "source": [
        "#We can try to fit a straight line using the above model as follow\n",
        "plt.style.use('ggplot')\n",
        "plt.scatter(x_real, out, color = 'red', label = 'actual trend')\n",
        "plt.plot(x_real, mymodel(x_real), color = 'black', label = 'predicted')\n",
        "plt.xlabel('x_real')\n",
        "plt.ylabel('out')\n",
        "plt.title(\"Fitted regrssion line\")\n",
        "plt.tight_layout()\n",
        "plt.legend()\n"
      ],
      "execution_count": 11,
      "outputs": [
        {
          "output_type": "execute_result",
          "data": {
            "text/plain": [
              "<matplotlib.legend.Legend at 0x7fa7a115b7b8>"
            ]
          },
          "metadata": {
            "tags": []
          },
          "execution_count": 11
        },
        {
          "output_type": "display_data",
          "data": {
            "image/png": "[encoded data removed]",
            "text/plain": [
              "<Figure size 432x288 with 1 Axes>"
            ]
          },
          "metadata": {
            "tags": []
          }
        }
      ]
    },
    {
      "cell_type": "code",
      "metadata": {
        "id": "H7fi0McVdu7Y"
      },
      "source": [
        "#We see that our straight line for untrained model underfit the data for high values\n",
        "#Lets obtain its penalty (loss)\n",
        "#For linear regression we obtain the parameters by minimizing l2 norm\n",
        "def myloss(y_real, y_pred):\n",
        "  return tf.reduce_mean(tf.square(y_real-y_pred))"
      ],
      "execution_count": 19,
      "outputs": []
    },
    {
      "cell_type": "code",
      "metadata": {
        "colab": {
          "base_uri": "https://localhost:8080/"
        },
        "id": "SMmJnESoe0OQ",
        "outputId": "b8010165-8dc6-4193-e5c7-5b9a29d6589d"
      },
      "source": [
        "print(f\"Loss for untrained model: {myloss(out, mymodel(x_real))}\")"
      ],
      "execution_count": 20,
      "outputs": [
        {
          "output_type": "stream",
          "text": [
            "Loss for untrained model: 4.540841579437256\n"
          ],
          "name": "stdout"
        }
      ]
    },
    {
      "cell_type": "code",
      "metadata": {
        "id": "hkAAIgFifFfk"
      },
      "source": [
        "#We can now enter the training stage of our model by following below path\n",
        "#Get loss-Get slopes-optimize \n"
      ],
      "execution_count": 21,
      "outputs": []
    },
    {
      "cell_type": "code",
      "metadata": {
        "id": "I4OuoTIefhoa"
      },
      "source": [
        "def train_fn(model, x_real, out, lr):\n",
        "  with tf.GradientTape() as tape:\n",
        "     # To compute slope by automatic differential power of tensorflow\n",
        "     loss = myloss(out, mymodel(x_real))\n",
        "  dw, db = tape.gradient(loss, [mymodel.w, mymodel.b])\n",
        "  #Optimize the weights\n",
        "  mymodel.w.assign_sub(lr*dw)\n",
        "  mymodel.b.assign_sub(lr*db)\n",
        "  return (dw, db, loss)\n",
        "\n"
      ],
      "execution_count": 22,
      "outputs": []
    },
    {
      "cell_type": "code",
      "metadata": {
        "colab": {
          "base_uri": "https://localhost:8080/"
        },
        "id": "scYvdNovg7yq",
        "outputId": "659ce1cf-bd9e-4be5-f13e-27bf5a2ac289"
      },
      "source": [
        "train_fn(mymodel, x_real, out,0.1) #Check the function if its real work"
      ],
      "execution_count": 23,
      "outputs": [
        {
          "output_type": "execute_result",
          "data": {
            "text/plain": [
              "(<tf.Tensor: shape=(), dtype=float32, numpy=-2.253619>,\n",
              " <tf.Tensor: shape=(), dtype=float32, numpy=-3.0194054>,\n",
              " <tf.Tensor: shape=(), dtype=float32, numpy=4.5408416>)"
            ]
          },
          "metadata": {
            "tags": []
          },
          "execution_count": 23
        }
      ]
    },
    {
      "cell_type": "code",
      "metadata": {
        "id": "Tn6kmSAuhGLw"
      },
      "source": [
        "#The training loop\n",
        "mymodel = TModel()\n",
        "W1,b1 = [], [] #Store the weights for future uses\n",
        "def mytrain_loop(model, x_real, out):\n",
        "  for epoch in range(15):\n",
        "    train_fn(model, x_real, out, 0.1)\n",
        "    los_cur = myloss(out, mymodel(x_real))\n",
        "    W1.append(mymodel.w.numpy())\n",
        "    b1.append(mymodel.b.numpy())\n",
        "    print(f\"w: {W1[-1]}\\nb: {b1}\\ncurrent loss :{los_cur}\")\n",
        "  print(f\"w: {mymodel.w}\\nb: {mymodel.b}\\nloss: {myloss(out, mymodel(x_real))}\")\n"
      ],
      "execution_count": 31,
      "outputs": []
    },
    {
      "cell_type": "code",
      "metadata": {
        "colab": {
          "base_uri": "https://localhost:8080/"
        },
        "id": "ftEvQmOwkxLo",
        "outputId": "c952fa30-75cb-40ee-c1c1-f71a6f8b1846"
      },
      "source": [
        "#Train the model by calling the above function\n",
        "mytrain_loop(mymodel, x_real, out)\n"
      ],
      "execution_count": 32,
      "outputs": [
        {
          "output_type": "stream",
          "text": [
            "w: 4.7253618240356445\n",
            "b: [0.30194053]\n",
            "current loss :3.264195442199707\n",
            "w: 4.904845237731934\n",
            "b: [0.30194053, 0.54346025]\n",
            "current loss :2.4498887062072754\n",
            "w: 5.047789573669434\n",
            "b: [0.30194053, 0.54346025, 0.73664993]\n",
            "current loss :1.9304765462875366\n",
            "w: 5.161633491516113\n",
            "b: [0.30194053, 0.54346025, 0.73664993, 0.89118093]\n",
            "current loss :1.5991586446762085\n",
            "w: 5.252301216125488\n",
            "b: [0.30194053, 0.54346025, 0.73664993, 0.89118093, 1.0147891]\n",
            "current loss :1.387817621231079\n",
            "w: 5.32451057434082\n",
            "b: [0.30194053, 0.54346025, 0.73664993, 0.89118093, 1.0147891, 1.1136625]\n",
            "current loss :1.2530049085617065\n",
            "w: 5.382019519805908\n",
            "b: [0.30194053, 0.54346025, 0.73664993, 0.89118093, 1.0147891, 1.1136625, 1.1927507]\n",
            "current loss :1.167007327079773\n",
            "w: 5.427820682525635\n",
            "b: [0.30194053, 0.54346025, 0.73664993, 0.89118093, 1.0147891, 1.1136625, 1.1927507, 1.2560129]\n",
            "current loss :1.112148404121399\n",
            "w: 5.464297294616699\n",
            "b: [0.30194053, 0.54346025, 0.73664993, 0.89118093, 1.0147891, 1.1136625, 1.1927507, 1.2560129, 1.3066161]\n",
            "current loss :1.0771524906158447\n",
            "w: 5.493348121643066\n",
            "b: [0.30194053, 0.54346025, 0.73664993, 0.89118093, 1.0147891, 1.1136625, 1.1927507, 1.2560129, 1.3066161, 1.3470933]\n",
            "current loss :1.054827332496643\n",
            "w: 5.516484260559082\n",
            "b: [0.30194053, 0.54346025, 0.73664993, 0.89118093, 1.0147891, 1.1136625, 1.1927507, 1.2560129, 1.3066161, 1.3470933, 1.3794708]\n",
            "current loss :1.0405853986740112\n",
            "w: 5.534910202026367\n",
            "b: [0.30194053, 0.54346025, 0.73664993, 0.89118093, 1.0147891, 1.1136625, 1.1927507, 1.2560129, 1.3066161, 1.3470933, 1.3794708, 1.4053695]\n",
            "current loss :1.0314993858337402\n",
            "w: 5.549584865570068\n",
            "b: [0.30194053, 0.54346025, 0.73664993, 0.89118093, 1.0147891, 1.1136625, 1.1927507, 1.2560129, 1.3066161, 1.3470933, 1.3794708, 1.4053695, 1.4260858]\n",
            "current loss :1.025702953338623\n",
            "w: 5.561272144317627\n",
            "b: [0.30194053, 0.54346025, 0.73664993, 0.89118093, 1.0147891, 1.1136625, 1.1927507, 1.2560129, 1.3066161, 1.3470933, 1.3794708, 1.4053695, 1.4260858, 1.4426568]\n",
            "current loss :1.0220048427581787\n",
            "w: 5.570580005645752\n",
            "b: [0.30194053, 0.54346025, 0.73664993, 0.89118093, 1.0147891, 1.1136625, 1.1927507, 1.2560129, 1.3066161, 1.3470933, 1.3794708, 1.4053695, 1.4260858, 1.4426568, 1.4559118]\n",
            "current loss :1.0196454524993896\n",
            "w: <tf.Variable 'w:0' shape=() dtype=float32, numpy=5.57058>\n",
            "b: <tf.Variable 'b:0' shape=() dtype=float32, numpy=1.4559118>\n",
            "loss: 1.0196454524993896\n"
          ],
          "name": "stdout"
        }
      ]
    },
    {
      "cell_type": "code",
      "metadata": {
        "colab": {
          "base_uri": "https://localhost:8080/",
          "height": 297
        },
        "id": "KL1jgSGslA0R",
        "outputId": "a7424656-7a15-4e30-9e58-71798a31b57c"
      },
      "source": [
        "#Ploting the real weights vs predicted weights\n",
        "plt.plot(range(15), W1, \"violet\",\n",
        "         range(15), b1, \"black\")\n",
        "\n",
        "plt.plot([w0] * len(range(15)), \"r--\",\n",
        "         [b0] * len(range(15)), \"b--\")\n",
        "\n",
        "plt.legend([\"W\", \"b\", \"True W\", \"True b\"])\n",
        "plt.xlabel('weight scale')\n",
        "plt.ylabel('weights')\n",
        "plt.title('True weights vs predicted weights')\n",
        "plt.tight_layout()\n",
        "plt.show()"
      ],
      "execution_count": 34,
      "outputs": [
        {
          "output_type": "display_data",
          "data": {
            "image/png": "[encoded data removed]",
            "text/plain": [
              "<Figure size 432x288 with 1 Axes>"
            ]
          },
          "metadata": {
            "tags": []
          }
        }
      ]
    },
    {
      "cell_type": "code",
      "metadata": {
        "colab": {
          "base_uri": "https://localhost:8080/",
          "height": 297
        },
        "id": "TnIM_LxrnTYw",
        "outputId": "79228a93-8325-4c12-838f-625af0933c56"
      },
      "source": [
        "#Now we can vissualize how the trained model performs\n",
        "plt.scatter(x_real, out, color = 'violet', label = 'scatter trend')\n",
        "plt.plot(x_real, mymodel(x_real), color = 'black', label = 'fitted model')\n",
        "plt.xlabel('x_real')\n",
        "plt.ylabel('target')\n",
        "plt.title('trained model perfomance')\n",
        "plt.tight_layout()\n",
        "\n"
      ],
      "execution_count": 36,
      "outputs": [
        {
          "output_type": "display_data",
          "data": {
            "image/png": "[encoded data removed]",
            "text/plain": [
              "<Figure size 432x288 with 1 Axes>"
            ]
          },
          "metadata": {
            "tags": []
          }
        }
      ]
    },
    {
      "cell_type": "code",
      "metadata": {
        "colab": {
          "base_uri": "https://localhost:8080/"
        },
        "id": "fMtkVYPIo0EU",
        "outputId": "afd0f9c4-2dad-4597-d9b0-6e5107b603ef"
      },
      "source": [
        "#Getting the loss of the trained model\n",
        "print(f\"Loss after train: {myloss(out, mymodel(x_real))}\")"
      ],
      "execution_count": 37,
      "outputs": [
        {
          "output_type": "stream",
          "text": [
            "Loss after train: 1.0196454524993896\n"
          ],
          "name": "stdout"
        }
      ]
    },
    {
      "cell_type": "code",
      "metadata": {
        "id": "OmmmDSc0pqpm"
      },
      "source": [
        ""
      ],
      "execution_count": null,
      "outputs": []
    }
  ]
}